{
 "cells": [
  {
   "cell_type": "markdown",
   "metadata": {},
   "source": [
    "## SPAM FILTER USING MULTINOMIAL NAIVE BAYES ALGORITHM\n",
    "In this project we will use the multinomial naive bayes model from sci-learn to classify a new message as spam or ham (non-spam). We will also use the CountVectorizer to create integer word count vectors for each message.\n",
    "\n",
    "We will be using the dataset from https://archive.ics.uci.edu/ml/datasets/sms+spam+collection."
   ]
  },
  {
   "cell_type": "code",
   "execution_count": 1,
   "metadata": {},
   "outputs": [
    {
     "name": "stdout",
     "output_type": "stream",
     "text": [
      "  Label                                                SMS\n",
      "0   ham  Go until jurong point, crazy.. Available only ...\n",
      "1   ham                      Ok lar... Joking wif u oni...\n",
      "2  spam  Free entry in 2 a wkly comp to win FA Cup fina...\n",
      "3   ham  U dun say so early hor... U c already then say...\n",
      "4   ham  Nah I don't think he goes to usf, he lives aro...\n",
      "<class 'pandas.core.frame.DataFrame'>\n",
      "RangeIndex: 5572 entries, 0 to 5571\n",
      "Data columns (total 2 columns):\n",
      "Label    5572 non-null object\n",
      "SMS      5572 non-null object\n",
      "dtypes: object(2)\n",
      "memory usage: 87.1+ KB\n",
      "None\n"
     ]
    }
   ],
   "source": [
    "import pandas as pd\n",
    "from sklearn.naive_bayes import MultinomialNB\n",
    "from sklearn.feature_extraction.text import CountVectorizer\n",
    "import matplotlib.pyplot as plt\n",
    "\n",
    "# read file with pandas and relabel the columns\n",
    "file=pd.read_csv(\"/Users/krishnan/downloads/SMSSpamCollection\", header=None, sep='\\t', names=['Label','SMS'])\n",
    "\n",
    "# explore the dataset\n",
    "print(file.head(5))\n",
    "print(file.info())"
   ]
  },
  {
   "cell_type": "code",
   "execution_count": 2,
   "metadata": {},
   "outputs": [
    {
     "name": "stdout",
     "output_type": "stream",
     "text": [
      "ham     86.59\n",
      "spam    13.41\n",
      "Name: Label, dtype: float64\n"
     ]
    },
    {
     "data": {
      "image/png": "[encoded data removed]",
      "text/plain": [
       "<Figure size 432x288 with 1 Axes>"
      ]
     },
     "metadata": {
      "needs_background": "light"
     },
     "output_type": "display_data"
    }
   ],
   "source": [
    "# spam and ham distribution\n",
    "dist=(pd.value_counts(file['Label'], normalize=True)*100).round(2)\n",
    "print(dist)\n",
    "dist.plot(kind='bar')\n",
    "plt.show()"
   ]
  },
  {
   "cell_type": "code",
   "execution_count": 3,
   "metadata": {},
   "outputs": [
    {
     "name": "stdout",
     "output_type": "stream",
     "text": [
      "     Label                                                SMS\n",
      "5461   ham  ok i thk i got it  then u wan me 2 come now or...\n",
      "4210   ham  i want kfc its tuesday  only buy 2 meals only ...\n",
      "4216   ham                         no dear i was sleeping   p\n",
      "1603   ham                          ok pa  nothing problem   \n",
      "1504   ham                    ill be there on   lt   gt   ok \n"
     ]
    }
   ],
   "source": [
    "# we will now randomize the file\n",
    "randomized_file=file.sample(frac=1, random_state=1)\n",
    "\n",
    "# the sms column has non-word characters which we don't require\n",
    "randomized_file['SMS'] = randomized_file['SMS'].str.replace('\\W' , ' ')\n",
    "randomized_file['SMS'] = randomized_file['SMS'].str.lower()\n",
    "print(randomized_file[5:10])"
   ]
  },
  {
   "cell_type": "code",
   "execution_count": 4,
   "metadata": {},
   "outputs": [
    {
     "name": "stdout",
     "output_type": "stream",
     "text": [
      "ham     0.861759\n",
      "spam    0.138241\n",
      "Name: Label, dtype: float64\n",
      "\n",
      " \n",
      "\n",
      "ham     0.866756\n",
      "spam    0.133244\n",
      "Name: Label, dtype: float64\n"
     ]
    }
   ],
   "source": [
    "# we will split the data for test/train validation. we are doing an 20/80 split\n",
    "train_data=randomized_file.sample(4458, random_state=1).reset_index(drop=True)\n",
    "test_data=randomized_file.sample(1114, random_state=1).reset_index(drop=True)\n",
    "\n",
    "# verify that our test and train data are random enough to have the same percentage of spam and ham messages\n",
    "train_data['Label'].value_counts(normalize=True)\n",
    "dist1=pd.value_counts(test_data['Label'], normalize=True)\n",
    "dist2=pd.value_counts(train_data['Label'],normalize=True)\n",
    "print(dist1)\n",
    "print('\\n \\n')\n",
    "print(dist2)\n"
   ]
  },
  {
   "cell_type": "code",
   "execution_count": 5,
   "metadata": {},
   "outputs": [
    {
     "name": "stdout",
     "output_type": "stream",
     "text": [
      "Correct: 1108\n",
      "Incorrect: 6\n",
      "Accuracy: 0.9946140035906643\n"
     ]
    }
   ],
   "source": [
    "# we now instantiate the CountVectorizer. we do this to get our integer vector features used to fit the multinomialnb model\n",
    "cv = CountVectorizer()\n",
    "# transform the sms column of train data\n",
    "traincv = cv.fit_transform(train_data['SMS'])\n",
    "# train label\n",
    "trainlabels=train_data['Label']\n",
    "\n",
    "# we transform test sms columns to vector for testing\n",
    "testcv=cv.transform(test_data['SMS'])\n",
    "\n",
    "# instantiate multinomialnb model and use the traincv to fit the model with trainlabel as the target column\n",
    "mnb=MultinomialNB()\n",
    "mnb.fit(traincv,trainlabels)\n",
    "\n",
    "# testing\n",
    "test_data['predictions']=mnb.predict(testcv)\n",
    "\n",
    "# check th accuracy of our model with the test data\n",
    "correct = 0\n",
    "total = test_data.shape[0]\n",
    "\n",
    "for row in test_data.iterrows():\n",
    "    row = row[1]\n",
    "    if row['Label'] == row['predictions']:\n",
    "        correct += 1\n",
    "\n",
    "print('Correct:', correct)\n",
    "print('Incorrect:', total - correct)\n",
    "print('Accuracy:', correct / total)"
   ]
  },
  {
   "cell_type": "markdown",
   "metadata": {},
   "source": [
    "We got an accuracy of 99.46% which is decent. We can further increase the use case of our model by replacing the current data set with a much bigger data set."
   ]
  },
  {
   "cell_type": "code",
   "execution_count": 6,
   "metadata": {},
   "outputs": [],
   "source": [
    "# a fun function that takes in a message via std in and classifies as spam or ham\n",
    "def spamornot():\n",
    "    message = input(\"Enter message: \")\n",
    "    message=message.replace('\\W' , ' ')\n",
    "    message=[message]\n",
    "    transformed_message=cv.transform(message)\n",
    "    prediction=mnb.predict(transformed_message)\n",
    "    print(prediction)"
   ]
  },
  {
   "cell_type": "code",
   "execution_count": 7,
   "metadata": {},
   "outputs": [
    {
     "name": "stdout",
     "output_type": "stream",
     "text": [
      "Enter message: Hello I am your new boss\n",
      "['ham']\n"
     ]
    }
   ],
   "source": [
    "spamornot()"
   ]
  },
  {
   "cell_type": "code",
   "execution_count": 8,
   "metadata": {},
   "outputs": [
    {
     "name": "stdout",
     "output_type": "stream",
     "text": [
      "Enter message: free money click the link right now\n",
      "['spam']\n"
     ]
    }
   ],
   "source": [
    "spamornot()"
   ]
  },
  {
   "cell_type": "code",
   "execution_count": null,
   "metadata": {},
   "outputs": [],
   "source": []
  }
 ],
 "metadata": {
  "kernelspec": {
   "display_name": "Python 3",
   "language": "python",
   "name": "python3"
  },
  "language_info": {
   "codemirror_mode": {
    "name": "ipython",
    "version": 3
   },
   "file_extension": ".py",
   "mimetype": "text/x-python",
   "name": "python",
   "nbconvert_exporter": "python",
   "pygments_lexer": "ipython3",
   "version": "3.7.3"
  }
 },
 "nbformat": 4,
 "nbformat_minor": 2
}
